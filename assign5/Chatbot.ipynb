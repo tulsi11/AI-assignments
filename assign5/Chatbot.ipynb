{
  "cells": [
    {
      "cell_type": "code",
      "execution_count": 1,
      "metadata": {
        "id": "a1PFGGGT50nq"
      },
      "outputs": [
        {
          "ename": "SyntaxError",
          "evalue": "invalid syntax (Temp/ipykernel_11024/2702247972.py, line 1)",
          "output_type": "error",
          "traceback": [
            "\u001b[1;36m  File \u001b[1;32m\"C:\\Users\\TULSIC~1\\AppData\\Local\\Temp/ipykernel_11024/2702247972.py\"\u001b[1;36m, line \u001b[1;32m1\u001b[0m\n\u001b[1;33m    pip install chatterbot\u001b[0m\n\u001b[1;37m        ^\u001b[0m\n\u001b[1;31mSyntaxError\u001b[0m\u001b[1;31m:\u001b[0m invalid syntax\n"
          ]
        }
      ],
      "source": [
        "pip install chatterbot\n",
        "pip install chatterbot_corpus"
      ]
    },
    {
      "cell_type": "code",
      "execution_count": null,
      "metadata": {
        "colab": {
          "base_uri": "https://localhost:8080/"
        },
        "id": "JvD9HUvK4aEN",
        "outputId": "ffbf0108-7f48-4fe2-8153-88158ccfd7f1"
      },
      "outputs": [
        {
          "name": "stdout",
          "output_type": "stream",
          "text": [
            "List Trainer: [####################] 100%\n",
            "Enter Your Name: Tulsi\n",
            "Hi, I am ItsAlive!!\n",
            "Today is Saturday, current time is 05:51:46 \n",
            "Let me know how can I help you?\n",
            "Tulsi:Hi\n",
            "ItsAlive: Hello\n",
            "Tulsi:How are you?\n",
            "ItsAlive: I am good, Thank you!\n",
            "Tulsi:What is your mobile number?\n",
            "ItsAlive: You can reach at me on 1234567891\n",
            "Tulsi:Where do you live?\n",
            "ItsAlive: Pune!!\n",
            "Tulsi:What do you do\n",
            "ItsAlive: I am a Data Scientist / Data Engineer, currently pursuing masters degree in Information systems at Northeastern University.\n",
            "Tulsi:where are you from?\n",
            "ItsAlive: India\n",
            "Tulsi:Okay thanks!\n",
            "ItsAlive: No Problem! Have a Good Day!\n",
            "Tulsi:bye\n",
            "ItsAlive: Bye\n"
          ]
        }
      ],
      "source": [
        "from chatterbot import ChatBot\n",
        "from chatterbot.trainers import ListTrainer\n",
        "from datetime import datetime, date\n",
        "\n",
        "bot = ChatBot('Buddy', storage_adapter='chatterbot.storage.SQLStorageAdapter', database_uri='sqlite:///database.sqlite3')\n",
        "\n",
        "trainer = ListTrainer(bot)\n",
        "trainer.train([\n",
        "'Hi',\n",
        "'Hello',\n",
        "'How are you',\n",
        "'I am good, Thank you!',\n",
        "'What is your mobile number',\n",
        "'You can reach at me on 1234567891',\n",
        "'Can I have your email ID?',\n",
        "'Sure. Its itsAlive@gmail.com ',\n",
        "'Where do you live',\n",
        "'Pune!!',\n",
        "'What do you do',\n",
        "'I am a Data Scientist / Data Engineer, currently pursuing masters degree in Information systems at Northeastern University.',\n",
        "'where are you from',\n",
        "'India',\n",
        "'How dare you?',\n",
        "'Pardon me ',\n",
        "'Okay Thanks',\n",
        "'No Problem! Have a Good Day!'\n",
        "])\n",
        "\n",
        "name=input(\"Enter Your Name: \")\n",
        "\n",
        "now = datetime.now()\n",
        "today = now.strftime(\"%A\")\n",
        "time= now.strftime(\"%H:%M:%S\")\n",
        "\n",
        "print(\"Hi, I am ItsAlive!!\")\n",
        "print(f\"Today is {today}, current time is {time} \")\n",
        "print(\"Let me know how can I help you?\")\n",
        "while True:\n",
        "    request=input(name+':')\n",
        "    if request=='Bye' or request =='bye':\n",
        "        print('ItsAlive: Bye')\n",
        "        break\n",
        "    else:\n",
        "        response=bot.get_response(request)\n",
        "        print('ItsAlive:',response)"
      ]
    }
  ],
  "metadata": {
    "colab": {
      "name": "Chatbot_Assign5.ipynb",
      "provenance": []
    },
    "kernelspec": {
      "display_name": "Python 3",
      "name": "python3"
    },
    "language_info": {
      "codemirror_mode": {
        "name": "ipython",
        "version": 3
      },
      "file_extension": ".py",
      "mimetype": "text/x-python",
      "name": "python",
      "nbconvert_exporter": "python",
      "pygments_lexer": "ipython3",
      "version": "3.9.6"
    }
  },
  "nbformat": 4,
  "nbformat_minor": 0
}
